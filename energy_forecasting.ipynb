{
 "cells": [
  {
   "cell_type": "markdown",
   "metadata": {},
   "source": [
    "# ⚡ Energy Usage Forecasting with Prophet\n",
    "This notebook demonstrates a simple univariate time series forecasting workflow using Facebook Prophet.\n",
    "\n",
    "We will use historical energy consumption data to forecast future demand."
   ]
  },
  {
   "cell_type": "code",
   "execution_count": null,
   "metadata": {},
   "outputs": [],
   "source": [
    "# 📦 Install dependencies (uncomment if running in a fresh environment)\n",
    "# !pip install pandas matplotlib prophet"
   ]
  },
  {
   "cell_type": "code",
   "execution_count": null,
   "metadata": {},
   "outputs": [],
   "source": [
    "import pandas as pd\n",
    "import matplotlib.pyplot as plt\n",
    "from prophet import Prophet"
   ]
  },
  {
   "cell_type": "markdown",
   "metadata": {},
   "source": [
    "## 🔹 Load Dataset\n",
    "Replace `energy.csv` with the actual dataset you're using (e.g., Open Power System Data)."
   ]
  },
  {
   "cell_type": "code",
   "execution_count": null,
   "metadata": {},
   "outputs": [],
   "source": [
    "df =  pd.read_csv(\"time_series_60min_singleindex.csv\", parse_dates=[\"utc_timestamp\"])\n",
    "df['timestamp'] = pd.to_datetime(df['timestamp'])\n",
    "df = df.rename(columns={'timestamp': 'ds', 'load': 'y'})\n",
    "df = df.sort_values('ds')\n",
    "df.head()"
   ]
  },
  {
   "cell_type": "markdown",
   "metadata": {},
   "source": [
    "## 📉 Visualize the time series"
   ]
  },
  {
   "cell_type": "code",
   "execution_count": null,
   "metadata": {},
   "outputs": [],
   "source": [
    "df.set_index('ds')['y'].plot(figsize=(12, 4), title='Energy Consumption');"
   ]
  },
  {
   "cell_type": "markdown",
   "metadata": {},
   "source": [
    "## 📈 Forecast with Prophet"
   ]
  },
  {
   "cell_type": "code",
   "execution_count": null,
   "metadata": {},
   "outputs": [],
   "source": [
    "model = Prophet()\n",
    "model.fit(df)\n",
    "\n",
    "future = model.make_future_dataframe(periods=30)  # Forecast 30 days ahead\n",
    "forecast = model.predict(future)"
   ]
  },
  {
   "cell_type": "markdown",
   "metadata": {},
   "source": [
    "## 📊 Visualize forecast with confidence intervals"
   ]
  },
  {
   "cell_type": "code",
   "execution_count": null,
   "metadata": {},
   "outputs": [],
   "source": [
    "fig1 = model.plot(forecast)\n",
    "fig2 = model.plot_components(forecast)"
   ]
  },
  {
   "cell_type": "markdown",
   "metadata": {},
   "source": [
    "## 🚨 Anomaly Detection (Simple Residuals)"
   ]
  },
  {
   "cell_type": "code",
   "execution_count": null,
   "metadata": {},
   "outputs": [],
   "source": [
    "df_merged = df.merge(forecast[['ds', 'yhat']], on='ds')\n",
    "df_merged['residual'] = df_merged['y'] - df_merged['yhat']\n",
    "threshold = 2 * df_merged['residual'].std()\n",
    "df_merged['anomaly'] = df_merged['residual'].abs() > threshold\n",
    "\n",
    "plt.figure(figsize=(12, 4))\n",
    "plt.plot(df_merged['ds'], df_merged['y'], label='Actual')\n",
    "plt.plot(df_merged['ds'], df_merged['yhat'], label='Forecast')\n",
    "plt.scatter(df_merged['ds'][df_merged['anomaly']], df_merged['y'][df_merged['anomaly']],\n",
    "            color='red', label='Anomaly')\n",
    "plt.legend();"
   ]
  }
 ],
 "metadata": {
  "kernelspec": {
   "display_name": "science",
   "language": "python",
   "name": "python3"
  },
  "language_info": {
   "name": "python",
   "version": "3.13.3"
  }
 },
 "nbformat": 4,
 "nbformat_minor": 5
}
